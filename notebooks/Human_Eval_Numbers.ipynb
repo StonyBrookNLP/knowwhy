{
 "cells": [
  {
   "cell_type": "code",
   "execution_count": 1,
   "id": "daily-muslim",
   "metadata": {},
   "outputs": [],
   "source": [
    "import pandas as pd\n",
    "import pickle\n",
    "import re"
   ]
  },
  {
   "cell_type": "code",
   "execution_count": 2,
   "id": "knowing-guard",
   "metadata": {},
   "outputs": [],
   "source": [
    "def load_cache(cache_fname):\n",
    "    with open(cache_fname, 'rb') as fp:\n",
    "        cache = pickle.load(fp)\n",
    "    return cache\n",
    "\n",
    "def retrieve_from_cache(cache, question, answer, narrative):\n",
    "\n",
    "    \"\"\"\n",
    "    Use question, answer and narrative to retrieve all associated values\n",
    "    Return failure if key not found\n",
    "    \"\"\"\n",
    "\n",
    "    key = (question.lower(), answer.lower(), narrative.lower())\n",
    "    try:\n",
    "        return cache[key]\n",
    "    except:\n",
    "        return {'message': 'Key not found'}"
   ]
  },
  {
   "cell_type": "code",
   "execution_count": 3,
   "id": "fleet-grocery",
   "metadata": {},
   "outputs": [],
   "source": [
    "cache = load_cache('../data/human_eval_cache.pkl')"
   ]
  },
  {
   "cell_type": "code",
   "execution_count": 4,
   "id": "victorian-hospital",
   "metadata": {},
   "outputs": [],
   "source": [
    "def remove_punctuation(text):\n",
    "    result = re.sub(r'[^\\w\\s]', '', text)\n",
    "    return result"
   ]
  },
  {
   "cell_type": "code",
   "execution_count": 5,
   "id": "fifteen-polish",
   "metadata": {},
   "outputs": [],
   "source": [
    "def overall_avg_likert(df, cache):\n",
    "    likerts = []\n",
    "    for idx, row in df.iterrows():\n",
    "        question = row['question']\n",
    "        try:\n",
    "            answer = remove_punctuation(row['predicted_answer'])\n",
    "        except:\n",
    "            answer = remove_punctuation(row['answer'])\n",
    "        narrative = row['narrative']\n",
    "        key = (question, answer, narrative)\n",
    "        info = retrieve_from_cache(cache, key[0], key[1], key[2])\n",
    "        likertscores = info['val_annotations']\n",
    "        likert = sum(likertscores) / len(likertscores)\n",
    "        likerts.append(likert)\n",
    "    print(f'Overall avg Likert for all answers {round(sum(likerts) / len(likerts), 2)}')"
   ]
  },
  {
   "cell_type": "code",
   "execution_count": 6,
   "id": "interstate-moscow",
   "metadata": {},
   "outputs": [],
   "source": [
    "def overall_avg_binary_likert(df, cache):\n",
    "    likerts = []\n",
    "    for idx, row in df.iterrows():\n",
    "        question = row['question']\n",
    "        try:\n",
    "            answer = remove_punctuation(row['predicted_answer'])\n",
    "        except:\n",
    "            answer = remove_punctuation(row['answer'])\n",
    "        narrative = row['narrative']\n",
    "        key = (question, answer, narrative)\n",
    "        info = retrieve_from_cache(cache, key[0], key[1], key[2])\n",
    "        likertscores = info['val_annotations']\n",
    "        binary_likertscores = [0 if x < 1 else 1 for x in likertscores]\n",
    "        likert = sum(binary_likertscores) / len(binary_likertscores)\n",
    "        likerts.append(likert)\n",
    "    print(f'Overall avg binary Likert for all answers: {round(sum(likerts) / len(likerts), 2)}')"
   ]
  },
  {
   "cell_type": "code",
   "execution_count": 7,
   "id": "scenic-church",
   "metadata": {},
   "outputs": [],
   "source": [
    "def get_all_numbers(df, cache):\n",
    "    overall_avg_likert(df, cache)\n",
    "    overall_avg_binary_likert(df, cache)"
   ]
  },
  {
   "cell_type": "code",
   "execution_count": 8,
   "id": "regional-supply",
   "metadata": {},
   "outputs": [],
   "source": [
    "def evaluate_df_by_onto(df, cache):\n",
    "    \n",
    "    conseq_df = df[df['onto'] == 'Consequence']\n",
    "    print('Consequence')\n",
    "    get_all_numbers(conseq_df, cache)\n",
    "    \n",
    "    goal_df = df[df['onto'] == 'Goal seeking']\n",
    "    print('Goal seeking')\n",
    "    get_all_numbers(goal_df, cache)\n",
    "    \n",
    "    reac_df = df[df['onto'] == 'Reactionary']\n",
    "    print('Reactionary')\n",
    "    get_all_numbers(reac_df, cache)\n",
    "    \n",
    "    desire_df = df[df['onto'] == 'Desire']\n",
    "    print('Desire')\n",
    "    get_all_numbers(desire_df, cache)\n",
    "    \n",
    "    other_df = df[df['onto'] == 'Other']\n",
    "    print('Other')\n",
    "    get_all_numbers(other_df, cache)"
   ]
  },
  {
   "cell_type": "code",
   "execution_count": 9,
   "id": "thick-window",
   "metadata": {},
   "outputs": [],
   "source": [
    "ontology_df = pd.read_csv('../data/hidden_test_set_ontology.csv')"
   ]
  },
  {
   "cell_type": "code",
   "execution_count": 10,
   "id": "historic-contract",
   "metadata": {},
   "outputs": [],
   "source": [
    "meta_to_ontology_dict = {}\n",
    "for idx, row in ontology_df.iterrows():\n",
    "    meta_to_ontology_dict[row['question_meta']] = row['Ontology']"
   ]
  },
  {
   "cell_type": "code",
   "execution_count": 11,
   "id": "hydraulic-verse",
   "metadata": {},
   "outputs": [],
   "source": [
    "def add_onto_to_df(df, meta_to_ontology_dict):\n",
    "    ontos = []\n",
    "    for idx, row in df.iterrows():\n",
    "        try:\n",
    "            ontos.append(meta_to_ontology_dict[row['question_meta']])\n",
    "        except:\n",
    "            ontos.append(meta_to_ontology_dict[row['meta']])\n",
    "    df['onto'] = ontos\n",
    "    return df"
   ]
  },
  {
   "cell_type": "code",
   "execution_count": 12,
   "id": "automatic-ethics",
   "metadata": {},
   "outputs": [],
   "source": [
    "onto_count_dict = ontology_df['Ontology'].value_counts().to_dict()"
   ]
  },
  {
   "cell_type": "code",
   "execution_count": 13,
   "id": "difficult-london",
   "metadata": {},
   "outputs": [
    {
     "data": {
      "text/plain": [
       "{'Consequence': 140,\n",
       " 'Goal seeking': 135,\n",
       " 'Reactionary': 118,\n",
       " 'Desire': 41,\n",
       " 'Other': 30}"
      ]
     },
     "execution_count": 13,
     "metadata": {},
     "output_type": "execute_result"
    }
   ],
   "source": [
    "onto_count_dict"
   ]
  },
  {
   "cell_type": "code",
   "execution_count": 14,
   "id": "greatest-cream",
   "metadata": {},
   "outputs": [
    {
     "name": "stdout",
     "output_type": "stream",
     "text": [
      "Overall avg Likert for all answers 0.58\n",
      "Overall avg binary Likert for all answers: 0.61\n"
     ]
    }
   ],
   "source": [
    "t5_df = pd.read_csv('../data/camera-ready-predictions/t5base_w_n_separator.csv')\n",
    "t5_df = add_onto_to_df(t5_df, meta_to_ontology_dict)\n",
    "get_all_numbers(t5_df, cache)"
   ]
  },
  {
   "cell_type": "code",
   "execution_count": 15,
   "id": "dressed-disco",
   "metadata": {},
   "outputs": [
    {
     "name": "stdout",
     "output_type": "stream",
     "text": [
      "Overall avg Likert for all answers 0.02\n",
      "Overall avg binary Likert for all answers: 0.42\n"
     ]
    }
   ],
   "source": [
    "impl_t5_df = t5_df[t5_df['is_ques_answerable'] == 'Not Answerable']\n",
    "get_all_numbers(impl_t5_df, cache)"
   ]
  },
  {
   "cell_type": "code",
   "execution_count": 16,
   "id": "attended-attempt",
   "metadata": {},
   "outputs": [
    {
     "name": "stdout",
     "output_type": "stream",
     "text": [
      "Consequence\n",
      "Overall avg Likert for all answers -0.22\n",
      "Overall avg binary Likert for all answers: 0.32\n",
      "Goal seeking\n",
      "Overall avg Likert for all answers 0.33\n",
      "Overall avg binary Likert for all answers: 0.55\n",
      "Reactionary\n",
      "Overall avg Likert for all answers 0.25\n",
      "Overall avg binary Likert for all answers: 0.49\n",
      "Desire\n",
      "Overall avg Likert for all answers 0.29\n",
      "Overall avg binary Likert for all answers: 0.52\n",
      "Other\n",
      "Overall avg Likert for all answers -0.09\n",
      "Overall avg binary Likert for all answers: 0.37\n"
     ]
    }
   ],
   "source": [
    "evaluate_df_by_onto(impl_t5_df, cache)"
   ]
  },
  {
   "cell_type": "code",
   "execution_count": 17,
   "id": "prostate-costs",
   "metadata": {},
   "outputs": [
    {
     "name": "stdout",
     "output_type": "stream",
     "text": [
      "Overall avg Likert for all answers 0.91\n",
      "Overall avg binary Likert for all answers: 0.73\n"
     ]
    }
   ],
   "source": [
    "t5_knowl_df = pd.read_csv('../data/camera-ready-predictions/t5base_w_n_separator_w_knowl.csv')\n",
    "t5_knowl_df = add_onto_to_df(t5_knowl_df, meta_to_ontology_dict)\n",
    "get_all_numbers(t5_knowl_df, cache)"
   ]
  },
  {
   "cell_type": "code",
   "execution_count": 18,
   "id": "stunning-thomson",
   "metadata": {},
   "outputs": [
    {
     "name": "stdout",
     "output_type": "stream",
     "text": [
      "Overall avg Likert for all answers 0.56\n",
      "Overall avg binary Likert for all answers: 0.61\n"
     ]
    }
   ],
   "source": [
    "impl_t5_knowl_df = t5_knowl_df[t5_knowl_df['is_ques_answerable'] == 'Not Answerable']\n",
    "get_all_numbers(impl_t5_knowl_df, cache)"
   ]
  },
  {
   "cell_type": "code",
   "execution_count": 19,
   "id": "comic-ordinance",
   "metadata": {},
   "outputs": [
    {
     "name": "stdout",
     "output_type": "stream",
     "text": [
      "Consequence\n",
      "Overall avg Likert for all answers 0.45\n",
      "Overall avg binary Likert for all answers: 0.57\n",
      "Goal seeking\n",
      "Overall avg Likert for all answers 0.7\n",
      "Overall avg binary Likert for all answers: 0.68\n",
      "Reactionary\n",
      "Overall avg Likert for all answers 0.8\n",
      "Overall avg binary Likert for all answers: 0.71\n",
      "Desire\n",
      "Overall avg Likert for all answers 0.63\n",
      "Overall avg binary Likert for all answers: 0.63\n",
      "Other\n",
      "Overall avg Likert for all answers 0.41\n",
      "Overall avg binary Likert for all answers: 0.53\n"
     ]
    }
   ],
   "source": [
    "evaluate_df_by_onto(impl_t5_knowl_df, cache)"
   ]
  },
  {
   "cell_type": "code",
   "execution_count": null,
   "id": "eastern-animation",
   "metadata": {},
   "outputs": [],
   "source": []
  },
  {
   "cell_type": "code",
   "execution_count": 20,
   "id": "initial-argument",
   "metadata": {},
   "outputs": [
    {
     "name": "stdout",
     "output_type": "stream",
     "text": [
      "Overall avg Likert for all answers 1.21\n",
      "Overall avg binary Likert for all answers: 0.84\n"
     ]
    }
   ],
   "source": [
    "t511b_df = pd.read_csv('../data/camera-ready-predictions/t511b_w_n_separator.csv')\n",
    "t511b_df = add_onto_to_df(t511b_df, meta_to_ontology_dict)\n",
    "get_all_numbers(t511b_df, cache)"
   ]
  },
  {
   "cell_type": "code",
   "execution_count": 21,
   "id": "conditional-atmosphere",
   "metadata": {},
   "outputs": [
    {
     "name": "stdout",
     "output_type": "stream",
     "text": [
      "Overall avg Likert for all answers 0.97\n",
      "Overall avg binary Likert for all answers: 0.75\n"
     ]
    }
   ],
   "source": [
    "impl_t511b_df = t511b_df[t511b_df['is_ques_answerable'] == 'Not Answerable']\n",
    "get_all_numbers(impl_t511b_df, cache)"
   ]
  },
  {
   "cell_type": "code",
   "execution_count": 22,
   "id": "initial-sculpture",
   "metadata": {},
   "outputs": [
    {
     "name": "stdout",
     "output_type": "stream",
     "text": [
      "Consequence\n",
      "Overall avg Likert for all answers 0.93\n",
      "Overall avg binary Likert for all answers: 0.72\n",
      "Goal seeking\n",
      "Overall avg Likert for all answers 0.97\n",
      "Overall avg binary Likert for all answers: 0.75\n",
      "Reactionary\n",
      "Overall avg Likert for all answers 1.18\n",
      "Overall avg binary Likert for all answers: 0.84\n",
      "Desire\n",
      "Overall avg Likert for all answers 0.98\n",
      "Overall avg binary Likert for all answers: 0.76\n",
      "Other\n",
      "Overall avg Likert for all answers 0.88\n",
      "Overall avg binary Likert for all answers: 0.74\n"
     ]
    }
   ],
   "source": [
    "evaluate_df_by_onto(impl_t511b_df, cache)"
   ]
  },
  {
   "cell_type": "code",
   "execution_count": 23,
   "id": "tender-burner",
   "metadata": {},
   "outputs": [
    {
     "name": "stdout",
     "output_type": "stream",
     "text": [
      "Overall avg Likert for all answers 1.27\n",
      "Overall avg binary Likert for all answers: 0.85\n"
     ]
    }
   ],
   "source": [
    "# this file is the t511b with top 3 diverse comet verbalized\n",
    "t511b_knowl_df = pd.read_csv('../data/camera-ready-predictions/t511b_w_n_separator_w_knowl.csv')\n",
    "t511b_knowl_df = add_onto_to_df(t511b_knowl_df, meta_to_ontology_dict)\n",
    "get_all_numbers(t511b_knowl_df, cache)"
   ]
  },
  {
   "cell_type": "code",
   "execution_count": 24,
   "id": "unable-tower",
   "metadata": {},
   "outputs": [
    {
     "name": "stdout",
     "output_type": "stream",
     "text": [
      "Overall avg Likert for all answers 1.04\n",
      "Overall avg binary Likert for all answers: 0.77\n"
     ]
    }
   ],
   "source": [
    "impl_t511b_knowl_df = t511b_knowl_df[t511b_knowl_df['is_ques_answerable'] == 'Not Answerable']\n",
    "get_all_numbers(impl_t511b_knowl_df, cache)"
   ]
  },
  {
   "cell_type": "code",
   "execution_count": 25,
   "id": "exotic-circular",
   "metadata": {},
   "outputs": [
    {
     "name": "stdout",
     "output_type": "stream",
     "text": [
      "Consequence\n",
      "Overall avg Likert for all answers 1.01\n",
      "Overall avg binary Likert for all answers: 0.74\n",
      "Goal seeking\n",
      "Overall avg Likert for all answers 1.29\n",
      "Overall avg binary Likert for all answers: 0.87\n",
      "Reactionary\n",
      "Overall avg Likert for all answers 0.96\n",
      "Overall avg binary Likert for all answers: 0.73\n",
      "Desire\n",
      "Overall avg Likert for all answers 1.08\n",
      "Overall avg binary Likert for all answers: 0.82\n",
      "Other\n",
      "Overall avg Likert for all answers 0.9\n",
      "Overall avg binary Likert for all answers: 0.74\n"
     ]
    }
   ],
   "source": [
    "evaluate_df_by_onto(impl_t511b_knowl_df, cache)"
   ]
  },
  {
   "cell_type": "code",
   "execution_count": null,
   "id": "great-angola",
   "metadata": {},
   "outputs": [],
   "source": []
  },
  {
   "cell_type": "code",
   "execution_count": 26,
   "id": "signal-affairs",
   "metadata": {},
   "outputs": [
    {
     "name": "stdout",
     "output_type": "stream",
     "text": [
      "Overall avg Likert for all answers 1.17\n",
      "Overall avg binary Likert for all answers: 0.83\n"
     ]
    }
   ],
   "source": [
    "gpt3_df = pd.read_csv('../data/camera-ready-predictions/gpt3.csv')\n",
    "gpt3_df = add_onto_to_df(gpt3_df, meta_to_ontology_dict)\n",
    "get_all_numbers(gpt3_df, cache)"
   ]
  },
  {
   "cell_type": "code",
   "execution_count": 27,
   "id": "retired-waters",
   "metadata": {},
   "outputs": [
    {
     "name": "stdout",
     "output_type": "stream",
     "text": [
      "Overall avg Likert for all answers 1.1\n",
      "Overall avg binary Likert for all answers: 0.8\n"
     ]
    }
   ],
   "source": [
    "impl_gpt3_df = gpt3_df[gpt3_df['is_ques_answerable'] == 'Not Answerable']\n",
    "get_all_numbers(impl_gpt3_df, cache)"
   ]
  },
  {
   "cell_type": "code",
   "execution_count": 28,
   "id": "worthy-isolation",
   "metadata": {},
   "outputs": [
    {
     "name": "stdout",
     "output_type": "stream",
     "text": [
      "Consequence\n",
      "Overall avg Likert for all answers 1.11\n",
      "Overall avg binary Likert for all answers: 0.81\n",
      "Goal seeking\n",
      "Overall avg Likert for all answers 1.05\n",
      "Overall avg binary Likert for all answers: 0.79\n",
      "Reactionary\n",
      "Overall avg Likert for all answers 1.09\n",
      "Overall avg binary Likert for all answers: 0.78\n",
      "Desire\n",
      "Overall avg Likert for all answers 1.16\n",
      "Overall avg binary Likert for all answers: 0.81\n",
      "Other\n",
      "Overall avg Likert for all answers 1.09\n",
      "Overall avg binary Likert for all answers: 0.82\n"
     ]
    }
   ],
   "source": [
    "evaluate_df_by_onto(impl_gpt3_df, cache)"
   ]
  },
  {
   "cell_type": "code",
   "execution_count": 29,
   "id": "perceived-cambodia",
   "metadata": {},
   "outputs": [
    {
     "name": "stdout",
     "output_type": "stream",
     "text": [
      "Overall avg Likert for all answers 1.32\n",
      "Overall avg binary Likert for all answers: 0.87\n"
     ]
    }
   ],
   "source": [
    "gpt3_knowl_df = pd.read_csv('../data/camera-ready-predictions/gpt3_w_knowl.csv')\n",
    "gpt3_knowl_df = add_onto_to_df(gpt3_knowl_df, meta_to_ontology_dict)\n",
    "get_all_numbers(gpt3_knowl_df, cache)"
   ]
  },
  {
   "cell_type": "code",
   "execution_count": 30,
   "id": "hindu-proposal",
   "metadata": {},
   "outputs": [
    {
     "name": "stdout",
     "output_type": "stream",
     "text": [
      "Overall avg Likert for all answers 1.24\n",
      "Overall avg binary Likert for all answers: 0.85\n"
     ]
    }
   ],
   "source": [
    "impl_gpt3_knowl_df = gpt3_knowl_df[gpt3_knowl_df['is_ques_answerable'] == 'Not Answerable']\n",
    "get_all_numbers(impl_gpt3_knowl_df, cache)"
   ]
  },
  {
   "cell_type": "code",
   "execution_count": 31,
   "id": "proved-group",
   "metadata": {},
   "outputs": [
    {
     "name": "stdout",
     "output_type": "stream",
     "text": [
      "Consequence\n",
      "Overall avg Likert for all answers 1.26\n",
      "Overall avg binary Likert for all answers: 0.85\n",
      "Goal seeking\n",
      "Overall avg Likert for all answers 1.3\n",
      "Overall avg binary Likert for all answers: 0.9\n",
      "Reactionary\n",
      "Overall avg Likert for all answers 1.2\n",
      "Overall avg binary Likert for all answers: 0.83\n",
      "Desire\n",
      "Overall avg Likert for all answers 1.23\n",
      "Overall avg binary Likert for all answers: 0.85\n",
      "Other\n",
      "Overall avg Likert for all answers 1.16\n",
      "Overall avg binary Likert for all answers: 0.82\n"
     ]
    }
   ],
   "source": [
    "evaluate_df_by_onto(impl_gpt3_knowl_df, cache)"
   ]
  },
  {
   "cell_type": "code",
   "execution_count": null,
   "id": "restricted-violin",
   "metadata": {},
   "outputs": [],
   "source": []
  },
  {
   "cell_type": "markdown",
   "id": "lyric-title",
   "metadata": {},
   "source": [
    "# Model Setup"
   ]
  },
  {
   "cell_type": "markdown",
   "id": "expanded-dietary",
   "metadata": {},
   "source": [
    "## Base"
   ]
  },
  {
   "cell_type": "code",
   "execution_count": 32,
   "id": "numerical-waste",
   "metadata": {},
   "outputs": [
    {
     "name": "stdout",
     "output_type": "stream",
     "text": [
      "Gtup top3\n",
      "Overall avg Likert for all answers 0.52\n",
      "Overall avg binary Likert for all answers: 0.59\n"
     ]
    }
   ],
   "source": [
    "print('Gtup top3')\n",
    "t5_df = pd.read_csv('../data/camera-ready-predictions/t5base_tup_top3_diverse.csv')\n",
    "t5_df = add_onto_to_df(t5_df, meta_to_ontology_dict)\n",
    "get_all_numbers(t5_df, cache)"
   ]
  },
  {
   "cell_type": "code",
   "execution_count": 33,
   "id": "occupational-offset",
   "metadata": {},
   "outputs": [
    {
     "name": "stdout",
     "output_type": "stream",
     "text": [
      "Overall avg Likert for all answers 0.08\n",
      "Overall avg binary Likert for all answers: 0.45\n"
     ]
    }
   ],
   "source": [
    "impl_t5_df = t5_df[t5_df['is_ques_answerable'] == 'Not Answerable']\n",
    "get_all_numbers(impl_t5_df, cache)"
   ]
  },
  {
   "cell_type": "code",
   "execution_count": null,
   "id": "intensive-array",
   "metadata": {},
   "outputs": [],
   "source": []
  },
  {
   "cell_type": "code",
   "execution_count": 34,
   "id": "accepting-postcard",
   "metadata": {},
   "outputs": [
    {
     "name": "stdout",
     "output_type": "stream",
     "text": [
      "Gtupsep top3\n",
      "Overall avg Likert for all answers 0.52\n",
      "Overall avg binary Likert for all answers: 0.6\n"
     ]
    }
   ],
   "source": [
    "print('Gtupsep top3')\n",
    "t5_df = pd.read_csv('../data/camera-ready-predictions/t5base_tupsep_top3_diverse.csv')\n",
    "t5_df = add_onto_to_df(t5_df, meta_to_ontology_dict)\n",
    "get_all_numbers(t5_df, cache)"
   ]
  },
  {
   "cell_type": "code",
   "execution_count": 35,
   "id": "continuing-fitness",
   "metadata": {},
   "outputs": [
    {
     "name": "stdout",
     "output_type": "stream",
     "text": [
      "Overall avg Likert for all answers 0.1\n",
      "Overall avg binary Likert for all answers: 0.46\n"
     ]
    }
   ],
   "source": [
    "impl_t5_df = t5_df[t5_df['is_ques_answerable'] == 'Not Answerable']\n",
    "get_all_numbers(impl_t5_df, cache)"
   ]
  },
  {
   "cell_type": "code",
   "execution_count": null,
   "id": "blocked-ontario",
   "metadata": {},
   "outputs": [],
   "source": []
  },
  {
   "cell_type": "code",
   "execution_count": 36,
   "id": "palestinian-voluntary",
   "metadata": {},
   "outputs": [
    {
     "name": "stdout",
     "output_type": "stream",
     "text": [
      "Gverb. top1\n",
      "Overall avg Likert for all answers 0.88\n",
      "Overall avg binary Likert for all answers: 0.72\n"
     ]
    }
   ],
   "source": [
    "print('Gverb. top1')\n",
    "t5_df = pd.read_csv('../data/camera-ready-predictions/t5base_verb_top1_diverse.csv')\n",
    "t5_df = add_onto_to_df(t5_df, meta_to_ontology_dict)\n",
    "get_all_numbers(t5_df, cache)"
   ]
  },
  {
   "cell_type": "code",
   "execution_count": 37,
   "id": "religious-glass",
   "metadata": {},
   "outputs": [
    {
     "name": "stdout",
     "output_type": "stream",
     "text": [
      "Overall avg Likert for all answers 0.51\n",
      "Overall avg binary Likert for all answers: 0.59\n"
     ]
    }
   ],
   "source": [
    "impl_t5_df = t5_df[t5_df['is_ques_answerable'] == 'Not Answerable']\n",
    "get_all_numbers(impl_t5_df, cache)"
   ]
  },
  {
   "cell_type": "code",
   "execution_count": null,
   "id": "recent-state",
   "metadata": {},
   "outputs": [],
   "source": []
  },
  {
   "cell_type": "code",
   "execution_count": 38,
   "id": "natural-property",
   "metadata": {},
   "outputs": [
    {
     "name": "stdout",
     "output_type": "stream",
     "text": [
      "Gverb. top5 diverse\n",
      "Overall avg Likert for all answers 0.91\n",
      "Overall avg binary Likert for all answers: 0.73\n"
     ]
    }
   ],
   "source": [
    "print('Gverb. top5 diverse')\n",
    "t5_df = pd.read_csv('../data/camera-ready-predictions/t5base_verb_top5_diverse.csv')\n",
    "t5_df = add_onto_to_df(t5_df, meta_to_ontology_dict)\n",
    "get_all_numbers(t5_df, cache)"
   ]
  },
  {
   "cell_type": "code",
   "execution_count": 39,
   "id": "baking-square",
   "metadata": {},
   "outputs": [
    {
     "name": "stdout",
     "output_type": "stream",
     "text": [
      "Overall avg Likert for all answers 0.56\n",
      "Overall avg binary Likert for all answers: 0.61\n"
     ]
    }
   ],
   "source": [
    "impl_t5_df = t5_df[t5_df['is_ques_answerable'] == 'Not Answerable']\n",
    "get_all_numbers(impl_t5_df, cache)"
   ]
  },
  {
   "cell_type": "code",
   "execution_count": null,
   "id": "fifteen-monaco",
   "metadata": {},
   "outputs": [],
   "source": []
  },
  {
   "cell_type": "code",
   "execution_count": 40,
   "id": "charming-winning",
   "metadata": {},
   "outputs": [
    {
     "name": "stdout",
     "output_type": "stream",
     "text": [
      "Gverb. top3 original\n",
      "Overall avg Likert for all answers 0.75\n",
      "Overall avg binary Likert for all answers: 0.67\n"
     ]
    }
   ],
   "source": [
    "print('Gverb. top3 original')\n",
    "t5_df = pd.read_csv('../data/camera-ready-predictions/t5base_verb_top3_original.csv')\n",
    "t5_df = add_onto_to_df(t5_df, meta_to_ontology_dict)\n",
    "get_all_numbers(t5_df, cache)"
   ]
  },
  {
   "cell_type": "code",
   "execution_count": 41,
   "id": "august-nickname",
   "metadata": {},
   "outputs": [
    {
     "name": "stdout",
     "output_type": "stream",
     "text": [
      "Overall avg Likert for all answers 0.26\n",
      "Overall avg binary Likert for all answers: 0.5\n"
     ]
    }
   ],
   "source": [
    "impl_t5_df = t5_df[t5_df['is_ques_answerable'] == 'Not Answerable']\n",
    "get_all_numbers(impl_t5_df, cache)"
   ]
  },
  {
   "cell_type": "code",
   "execution_count": null,
   "id": "macro-report",
   "metadata": {},
   "outputs": [],
   "source": []
  },
  {
   "cell_type": "code",
   "execution_count": 42,
   "id": "flush-digest",
   "metadata": {},
   "outputs": [
    {
     "name": "stdout",
     "output_type": "stream",
     "text": [
      "Gverb. top3 diverse\n",
      "Overall avg Likert for all answers 0.84\n",
      "Overall avg binary Likert for all answers: 0.7\n"
     ]
    }
   ],
   "source": [
    "print('Gverb. top3 diverse')\n",
    "t5_df = pd.read_csv('../data/camera-ready-predictions/t5base_verb_top3_diverse.csv')\n",
    "t5_df = add_onto_to_df(t5_df, meta_to_ontology_dict)\n",
    "get_all_numbers(t5_df, cache)"
   ]
  },
  {
   "cell_type": "code",
   "execution_count": 43,
   "id": "swiss-shape",
   "metadata": {},
   "outputs": [
    {
     "name": "stdout",
     "output_type": "stream",
     "text": [
      "Overall avg Likert for all answers 0.47\n",
      "Overall avg binary Likert for all answers: 0.58\n"
     ]
    }
   ],
   "source": [
    "impl_t5_df = t5_df[t5_df['is_ques_answerable'] == 'Not Answerable']\n",
    "get_all_numbers(impl_t5_df, cache)"
   ]
  },
  {
   "cell_type": "code",
   "execution_count": null,
   "id": "normal-minnesota",
   "metadata": {},
   "outputs": [],
   "source": []
  },
  {
   "cell_type": "code",
   "execution_count": 44,
   "id": "rough-input",
   "metadata": {},
   "outputs": [
    {
     "name": "stdout",
     "output_type": "stream",
     "text": [
      "Gverb. top3 reranked\n",
      "Overall avg Likert for all answers 0.88\n",
      "Overall avg binary Likert for all answers: 0.71\n"
     ]
    }
   ],
   "source": [
    "print('Gverb. top3 reranked')\n",
    "t5_df = pd.read_csv('../data/camera-ready-predictions/t5base_verb_top3_reranked.csv')\n",
    "t5_df = add_onto_to_df(t5_df, meta_to_ontology_dict)\n",
    "get_all_numbers(t5_df, cache)"
   ]
  },
  {
   "cell_type": "code",
   "execution_count": 45,
   "id": "inner-friendly",
   "metadata": {},
   "outputs": [
    {
     "name": "stdout",
     "output_type": "stream",
     "text": [
      "Overall avg Likert for all answers 0.59\n",
      "Overall avg binary Likert for all answers: 0.62\n"
     ]
    }
   ],
   "source": [
    "impl_t5_df = t5_df[t5_df['is_ques_answerable'] == 'Not Answerable']\n",
    "get_all_numbers(impl_t5_df, cache)"
   ]
  },
  {
   "cell_type": "code",
   "execution_count": null,
   "id": "nominated-joint",
   "metadata": {},
   "outputs": [],
   "source": []
  },
  {
   "cell_type": "code",
   "execution_count": 46,
   "id": "handled-pharmacy",
   "metadata": {},
   "outputs": [
    {
     "name": "stdout",
     "output_type": "stream",
     "text": [
      "T5 Appendix D.3 format - no separator\n",
      "Overall avg Likert for all answers 0.36\n",
      "Overall avg binary Likert for all answers: 0.56\n"
     ]
    }
   ],
   "source": [
    "print('T5 Appendix D.3 format - no separator')\n",
    "t5_df = pd.read_csv('../data/camera-ready-predictions/t5base.csv')\n",
    "t5_df = add_onto_to_df(t5_df, meta_to_ontology_dict)\n",
    "get_all_numbers(t5_df, cache)"
   ]
  },
  {
   "cell_type": "code",
   "execution_count": 47,
   "id": "younger-madness",
   "metadata": {},
   "outputs": [
    {
     "name": "stdout",
     "output_type": "stream",
     "text": [
      "Overall avg Likert for all answers -0.27\n",
      "Overall avg binary Likert for all answers: 0.34\n"
     ]
    }
   ],
   "source": [
    "impl_t5_df = t5_df[t5_df['is_ques_answerable'] == 'Not Answerable']\n",
    "get_all_numbers(impl_t5_df, cache)"
   ]
  },
  {
   "cell_type": "code",
   "execution_count": null,
   "id": "cooperative-roman",
   "metadata": {},
   "outputs": [],
   "source": []
  },
  {
   "cell_type": "markdown",
   "id": "detailed-firmware",
   "metadata": {},
   "source": [
    "## 11B"
   ]
  },
  {
   "cell_type": "code",
   "execution_count": 48,
   "id": "alternate-theater",
   "metadata": {},
   "outputs": [
    {
     "name": "stdout",
     "output_type": "stream",
     "text": [
      "Gtup top3\n",
      "Overall avg Likert for all answers 1.24\n",
      "Overall avg binary Likert for all answers: 0.84\n"
     ]
    }
   ],
   "source": [
    "print('Gtup top3')\n",
    "t5_df = pd.read_csv('../data/camera-ready-predictions/t511b_tup_top3_diverse.csv')\n",
    "t5_df = add_onto_to_df(t5_df, meta_to_ontology_dict)\n",
    "get_all_numbers(t5_df, cache)"
   ]
  },
  {
   "cell_type": "code",
   "execution_count": 49,
   "id": "collected-battle",
   "metadata": {},
   "outputs": [
    {
     "name": "stdout",
     "output_type": "stream",
     "text": [
      "Overall avg Likert for all answers 0.97\n",
      "Overall avg binary Likert for all answers: 0.72\n"
     ]
    }
   ],
   "source": [
    "impl_t5_df = t5_df[t5_df['is_ques_answerable'] == 'Not Answerable']\n",
    "get_all_numbers(impl_t5_df, cache)"
   ]
  },
  {
   "cell_type": "code",
   "execution_count": null,
   "id": "elect-separate",
   "metadata": {},
   "outputs": [],
   "source": []
  },
  {
   "cell_type": "code",
   "execution_count": 50,
   "id": "included-mistake",
   "metadata": {},
   "outputs": [
    {
     "name": "stdout",
     "output_type": "stream",
     "text": [
      "Gtupsep top3\n",
      "Overall avg Likert for all answers 1.11\n",
      "Overall avg binary Likert for all answers: 0.79\n"
     ]
    }
   ],
   "source": [
    "print('Gtupsep top3')\n",
    "t5_df = pd.read_csv('../data/camera-ready-predictions/t511b_tupsep_top3_diverse.csv')\n",
    "t5_df = add_onto_to_df(t5_df, meta_to_ontology_dict)\n",
    "get_all_numbers(t5_df, cache)"
   ]
  },
  {
   "cell_type": "code",
   "execution_count": 51,
   "id": "proved-waters",
   "metadata": {},
   "outputs": [
    {
     "name": "stdout",
     "output_type": "stream",
     "text": [
      "Overall avg Likert for all answers 0.81\n",
      "Overall avg binary Likert for all answers: 0.68\n"
     ]
    }
   ],
   "source": [
    "impl_t5_df = t5_df[t5_df['is_ques_answerable'] == 'Not Answerable']\n",
    "get_all_numbers(impl_t5_df, cache)"
   ]
  },
  {
   "cell_type": "code",
   "execution_count": null,
   "id": "bright-north",
   "metadata": {},
   "outputs": [],
   "source": []
  },
  {
   "cell_type": "code",
   "execution_count": 52,
   "id": "guided-dance",
   "metadata": {},
   "outputs": [
    {
     "name": "stdout",
     "output_type": "stream",
     "text": [
      "Gverb. top1\n",
      "Overall avg Likert for all answers 1.24\n",
      "Overall avg binary Likert for all answers: 0.84\n"
     ]
    }
   ],
   "source": [
    "print('Gverb. top1')\n",
    "t5_df = pd.read_csv('../data/camera-ready-predictions/t511b_verb_top1_diverse.csv')\n",
    "t5_df = add_onto_to_df(t5_df, meta_to_ontology_dict)\n",
    "get_all_numbers(t5_df, cache)"
   ]
  },
  {
   "cell_type": "code",
   "execution_count": 53,
   "id": "israeli-subscription",
   "metadata": {},
   "outputs": [
    {
     "name": "stdout",
     "output_type": "stream",
     "text": [
      "Overall avg Likert for all answers 0.95\n",
      "Overall avg binary Likert for all answers: 0.71\n"
     ]
    }
   ],
   "source": [
    "impl_t5_df = t5_df[t5_df['is_ques_answerable'] == 'Not Answerable']\n",
    "get_all_numbers(impl_t5_df, cache)"
   ]
  },
  {
   "cell_type": "code",
   "execution_count": null,
   "id": "ready-robinson",
   "metadata": {},
   "outputs": [],
   "source": []
  },
  {
   "cell_type": "code",
   "execution_count": 54,
   "id": "cosmetic-qualification",
   "metadata": {},
   "outputs": [
    {
     "name": "stdout",
     "output_type": "stream",
     "text": [
      "Gverb. top5 diverse\n",
      "Overall avg Likert for all answers 1.25\n",
      "Overall avg binary Likert for all answers: 0.85\n"
     ]
    }
   ],
   "source": [
    "print('Gverb. top5 diverse')\n",
    "t5_df = pd.read_csv('../data/camera-ready-predictions/t511b_verb_top5_diverse.csv')\n",
    "t5_df = add_onto_to_df(t5_df, meta_to_ontology_dict)\n",
    "get_all_numbers(t5_df, cache)"
   ]
  },
  {
   "cell_type": "code",
   "execution_count": 55,
   "id": "touched-cycling",
   "metadata": {},
   "outputs": [
    {
     "name": "stdout",
     "output_type": "stream",
     "text": [
      "Overall avg Likert for all answers 1.05\n",
      "Overall avg binary Likert for all answers: 0.78\n"
     ]
    }
   ],
   "source": [
    "impl_t5_df = t5_df[t5_df['is_ques_answerable'] == 'Not Answerable']\n",
    "get_all_numbers(impl_t5_df, cache)"
   ]
  },
  {
   "cell_type": "code",
   "execution_count": null,
   "id": "sunset-protocol",
   "metadata": {},
   "outputs": [],
   "source": []
  },
  {
   "cell_type": "code",
   "execution_count": 56,
   "id": "corrected-final",
   "metadata": {},
   "outputs": [
    {
     "name": "stdout",
     "output_type": "stream",
     "text": [
      "Gverb. top3 original\n",
      "Overall avg Likert for all answers 1.24\n",
      "Overall avg binary Likert for all answers: 0.84\n"
     ]
    }
   ],
   "source": [
    "print('Gverb. top3 original')\n",
    "t5_df = pd.read_csv('../data/camera-ready-predictions/t511b_verb_top3_original.csv')\n",
    "t5_df = add_onto_to_df(t5_df, meta_to_ontology_dict)\n",
    "get_all_numbers(t5_df, cache)"
   ]
  },
  {
   "cell_type": "code",
   "execution_count": 57,
   "id": "stunning-cornell",
   "metadata": {},
   "outputs": [
    {
     "name": "stdout",
     "output_type": "stream",
     "text": [
      "Overall avg Likert for all answers 1.01\n",
      "Overall avg binary Likert for all answers: 0.74\n"
     ]
    }
   ],
   "source": [
    "impl_t5_df = t5_df[t5_df['is_ques_answerable'] == 'Not Answerable']\n",
    "get_all_numbers(impl_t5_df, cache)"
   ]
  },
  {
   "cell_type": "code",
   "execution_count": null,
   "id": "finite-reminder",
   "metadata": {},
   "outputs": [],
   "source": []
  },
  {
   "cell_type": "code",
   "execution_count": 58,
   "id": "ultimate-german",
   "metadata": {},
   "outputs": [
    {
     "name": "stdout",
     "output_type": "stream",
     "text": [
      "Gverb. top3 diverse\n",
      "Overall avg Likert for all answers 1.27\n",
      "Overall avg binary Likert for all answers: 0.85\n"
     ]
    }
   ],
   "source": [
    "print('Gverb. top3 diverse')\n",
    "t5_df = pd.read_csv('../data/camera-ready-predictions/t511b_verb_top3_diverse.csv')\n",
    "t5_df = add_onto_to_df(t5_df, meta_to_ontology_dict)\n",
    "get_all_numbers(t5_df, cache)"
   ]
  },
  {
   "cell_type": "code",
   "execution_count": 59,
   "id": "piano-indonesian",
   "metadata": {},
   "outputs": [
    {
     "name": "stdout",
     "output_type": "stream",
     "text": [
      "Overall avg Likert for all answers 1.04\n",
      "Overall avg binary Likert for all answers: 0.77\n"
     ]
    }
   ],
   "source": [
    "impl_t5_df = t5_df[t5_df['is_ques_answerable'] == 'Not Answerable']\n",
    "get_all_numbers(impl_t5_df, cache)"
   ]
  },
  {
   "cell_type": "code",
   "execution_count": null,
   "id": "coupled-jefferson",
   "metadata": {},
   "outputs": [],
   "source": []
  },
  {
   "cell_type": "code",
   "execution_count": 60,
   "id": "historical-monitor",
   "metadata": {},
   "outputs": [
    {
     "name": "stdout",
     "output_type": "stream",
     "text": [
      "Gverb. top3 reranked\n",
      "Overall avg Likert for all answers 1.23\n",
      "Overall avg binary Likert for all answers: 0.83\n"
     ]
    }
   ],
   "source": [
    "print('Gverb. top3 reranked')\n",
    "t5_df = pd.read_csv('../data/camera-ready-predictions/t511b_verb_top3_reranked.csv')\n",
    "t5_df = add_onto_to_df(t5_df, meta_to_ontology_dict)\n",
    "get_all_numbers(t5_df, cache)"
   ]
  },
  {
   "cell_type": "code",
   "execution_count": 61,
   "id": "incredible-characterization",
   "metadata": {},
   "outputs": [
    {
     "name": "stdout",
     "output_type": "stream",
     "text": [
      "Overall avg Likert for all answers 0.99\n",
      "Overall avg binary Likert for all answers: 0.73\n"
     ]
    }
   ],
   "source": [
    "impl_t5_df = t5_df[t5_df['is_ques_answerable'] == 'Not Answerable']\n",
    "get_all_numbers(impl_t5_df, cache)"
   ]
  },
  {
   "cell_type": "code",
   "execution_count": null,
   "id": "ideal-accreditation",
   "metadata": {},
   "outputs": [],
   "source": []
  },
  {
   "cell_type": "code",
   "execution_count": 62,
   "id": "greatest-cream",
   "metadata": {},
   "outputs": [
    {
     "name": "stdout",
     "output_type": "stream",
     "text": [
      "T5 Appendix D.3 format - no separator\n",
      "Overall avg Likert for all answers 0.99\n",
      "Overall avg binary Likert for all answers: 0.77\n"
     ]
    }
   ],
   "source": [
    "print('T5 Appendix D.3 format - no separator')\n",
    "t5_df = pd.read_csv('../data/camera-ready-predictions/t511b.csv')\n",
    "t5_df = add_onto_to_df(t5_df, meta_to_ontology_dict)\n",
    "get_all_numbers(t5_df, cache)"
   ]
  },
  {
   "cell_type": "code",
   "execution_count": 63,
   "id": "dressed-disco",
   "metadata": {},
   "outputs": [
    {
     "name": "stdout",
     "output_type": "stream",
     "text": [
      "Overall avg Likert for all answers 0.6\n",
      "Overall avg binary Likert for all answers: 0.62\n"
     ]
    }
   ],
   "source": [
    "impl_t5_df = t5_df[t5_df['is_ques_answerable'] == 'Not Answerable']\n",
    "get_all_numbers(impl_t5_df, cache)"
   ]
  },
  {
   "cell_type": "code",
   "execution_count": null,
   "id": "comfortable-animation",
   "metadata": {},
   "outputs": [],
   "source": []
  },
  {
   "cell_type": "code",
   "execution_count": null,
   "id": "fossil-albania",
   "metadata": {},
   "outputs": [],
   "source": []
  }
 ],
 "metadata": {
  "kernelspec": {
   "display_name": "Python 3",
   "language": "python",
   "name": "python3"
  },
  "language_info": {
   "codemirror_mode": {
    "name": "ipython",
    "version": 3
   },
   "file_extension": ".py",
   "mimetype": "text/x-python",
   "name": "python",
   "nbconvert_exporter": "python",
   "pygments_lexer": "ipython3",
   "version": "3.7.9"
  }
 },
 "nbformat": 4,
 "nbformat_minor": 5
}
